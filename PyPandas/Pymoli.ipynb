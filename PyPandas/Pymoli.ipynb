{
 "cells": [
  {
   "cell_type": "markdown",
   "metadata": {},
   "source": [
    "## Heros of Pymoli\n",
    "#### Observed Trend 1\n",
    "#### Men are 4 times more likely to be playing and purchasing Video games ( Men - 81% Women - 17%)\n",
    "#### Observed Trend 2\n",
    "#### As you age you trend to spend more on video games\n",
    "#### Observed Trend 3\n",
    "#### Top 5 most popular games are also Highest Grossing games."
   ]
  },
  {
   "cell_type": "code",
   "execution_count": 50,
   "metadata": {
    "collapsed": true
   },
   "outputs": [],
   "source": [
    "import pandas as pd\n",
    "import numpy as np\n",
    "import matplotlib.pyplot as plt"
   ]
  },
  {
   "cell_type": "code",
   "execution_count": 51,
   "metadata": {},
   "outputs": [
    {
     "data": {
      "text/html": [
       "<div>\n",
       "<style>\n",
       "    .dataframe thead tr:only-child th {\n",
       "        text-align: right;\n",
       "    }\n",
       "\n",
       "    .dataframe thead th {\n",
       "        text-align: left;\n",
       "    }\n",
       "\n",
       "    .dataframe tbody tr th {\n",
       "        vertical-align: top;\n",
       "    }\n",
       "</style>\n",
       "<table border=\"1\" class=\"dataframe\">\n",
       "  <thead>\n",
       "    <tr style=\"text-align: right;\">\n",
       "      <th></th>\n",
       "      <th>Age</th>\n",
       "      <th>Gender</th>\n",
       "      <th>ItemID</th>\n",
       "      <th>ItemName</th>\n",
       "      <th>Price</th>\n",
       "      <th>SN</th>\n",
       "    </tr>\n",
       "  </thead>\n",
       "  <tbody>\n",
       "    <tr>\n",
       "      <th>0</th>\n",
       "      <td>24</td>\n",
       "      <td>Female</td>\n",
       "      <td>69</td>\n",
       "      <td>Frenzy, Defender of the Harvest</td>\n",
       "      <td>4.82</td>\n",
       "      <td>Lirtjaskan85</td>\n",
       "    </tr>\n",
       "    <tr>\n",
       "      <th>1</th>\n",
       "      <td>12</td>\n",
       "      <td>Female</td>\n",
       "      <td>75</td>\n",
       "      <td>Brutality Ivory Warmace</td>\n",
       "      <td>4.12</td>\n",
       "      <td>Chanjask65</td>\n",
       "    </tr>\n",
       "    <tr>\n",
       "      <th>2</th>\n",
       "      <td>21</td>\n",
       "      <td>Female</td>\n",
       "      <td>114</td>\n",
       "      <td>Yearning Mageblade</td>\n",
       "      <td>2.67</td>\n",
       "      <td>Aerithllora36</td>\n",
       "    </tr>\n",
       "    <tr>\n",
       "      <th>3</th>\n",
       "      <td>24</td>\n",
       "      <td>Male</td>\n",
       "      <td>130</td>\n",
       "      <td>Alpha</td>\n",
       "      <td>4.53</td>\n",
       "      <td>Aeralria27</td>\n",
       "    </tr>\n",
       "    <tr>\n",
       "      <th>4</th>\n",
       "      <td>28</td>\n",
       "      <td>Male</td>\n",
       "      <td>9</td>\n",
       "      <td>Thorn, Conqueror of the Corrupted</td>\n",
       "      <td>4.60</td>\n",
       "      <td>Haisrisuir60</td>\n",
       "    </tr>\n",
       "  </tbody>\n",
       "</table>\n",
       "</div>"
      ],
      "text/plain": [
       "   Age  Gender  ItemID                           ItemName  Price  \\\n",
       "0   24  Female      69    Frenzy, Defender of the Harvest   4.82   \n",
       "1   12  Female      75            Brutality Ivory Warmace   4.12   \n",
       "2   21  Female     114                 Yearning Mageblade   2.67   \n",
       "3   24    Male     130                              Alpha   4.53   \n",
       "4   28    Male       9  Thorn, Conqueror of the Corrupted   4.60   \n",
       "\n",
       "              SN  \n",
       "0   Lirtjaskan85  \n",
       "1     Chanjask65  \n",
       "2  Aerithllora36  \n",
       "3     Aeralria27  \n",
       "4   Haisrisuir60  "
      ]
     },
     "execution_count": 51,
     "metadata": {},
     "output_type": "execute_result"
    }
   ],
   "source": [
    "df = pd.read_json(\"purchase_data_2.json\")\n",
    "df.columns = [ 'Age','Gender','ItemID','ItemName','Price','SN']\n",
    "df.head(5)\n"
   ]
  },
  {
   "cell_type": "code",
   "execution_count": 52,
   "metadata": {},
   "outputs": [
    {
     "data": {
      "text/html": [
       "<div>\n",
       "<style>\n",
       "    .dataframe thead tr:only-child th {\n",
       "        text-align: right;\n",
       "    }\n",
       "\n",
       "    .dataframe thead th {\n",
       "        text-align: left;\n",
       "    }\n",
       "\n",
       "    .dataframe tbody tr th {\n",
       "        vertical-align: top;\n",
       "    }\n",
       "</style>\n",
       "<table border=\"1\" class=\"dataframe\">\n",
       "  <thead>\n",
       "    <tr style=\"text-align: right;\">\n",
       "      <th></th>\n",
       "      <th>Age</th>\n",
       "      <th>Gender</th>\n",
       "      <th>ItemID</th>\n",
       "      <th>ItemName</th>\n",
       "      <th>Price</th>\n",
       "      <th>SN</th>\n",
       "    </tr>\n",
       "  </thead>\n",
       "  <tbody>\n",
       "    <tr>\n",
       "      <th>0</th>\n",
       "      <td>24</td>\n",
       "      <td>Female</td>\n",
       "      <td>69</td>\n",
       "      <td>Frenzy, Defender of the Harvest</td>\n",
       "      <td>4.82</td>\n",
       "      <td>Lirtjaskan85</td>\n",
       "    </tr>\n",
       "    <tr>\n",
       "      <th>1</th>\n",
       "      <td>12</td>\n",
       "      <td>Female</td>\n",
       "      <td>75</td>\n",
       "      <td>Brutality Ivory Warmace</td>\n",
       "      <td>4.12</td>\n",
       "      <td>Chanjask65</td>\n",
       "    </tr>\n",
       "    <tr>\n",
       "      <th>2</th>\n",
       "      <td>21</td>\n",
       "      <td>Female</td>\n",
       "      <td>114</td>\n",
       "      <td>Yearning Mageblade</td>\n",
       "      <td>2.67</td>\n",
       "      <td>Aerithllora36</td>\n",
       "    </tr>\n",
       "    <tr>\n",
       "      <th>3</th>\n",
       "      <td>24</td>\n",
       "      <td>Male</td>\n",
       "      <td>130</td>\n",
       "      <td>Alpha</td>\n",
       "      <td>4.53</td>\n",
       "      <td>Aeralria27</td>\n",
       "    </tr>\n",
       "    <tr>\n",
       "      <th>4</th>\n",
       "      <td>28</td>\n",
       "      <td>Male</td>\n",
       "      <td>9</td>\n",
       "      <td>Thorn, Conqueror of the Corrupted</td>\n",
       "      <td>4.60</td>\n",
       "      <td>Haisrisuir60</td>\n",
       "    </tr>\n",
       "  </tbody>\n",
       "</table>\n",
       "</div>"
      ],
      "text/plain": [
       "   Age  Gender  ItemID                           ItemName  Price  \\\n",
       "0   24  Female      69    Frenzy, Defender of the Harvest   4.82   \n",
       "1   12  Female      75            Brutality Ivory Warmace   4.12   \n",
       "2   21  Female     114                 Yearning Mageblade   2.67   \n",
       "3   24    Male     130                              Alpha   4.53   \n",
       "4   28    Male       9  Thorn, Conqueror of the Corrupted   4.60   \n",
       "\n",
       "              SN  \n",
       "0   Lirtjaskan85  \n",
       "1     Chanjask65  \n",
       "2  Aerithllora36  \n",
       "3     Aeralria27  \n",
       "4   Haisrisuir60  "
      ]
     },
     "execution_count": 52,
     "metadata": {},
     "output_type": "execute_result"
    }
   ],
   "source": [
    "df2 = pd.read_json(\"purchase_data_2.json\")\n",
    "df2.columns = [ 'Age','Gender','ItemID','ItemName','Price','SN']\n",
    "df2.head(5)"
   ]
  },
  {
   "cell_type": "markdown",
   "metadata": {},
   "source": [
    "#### Player Count"
   ]
  },
  {
   "cell_type": "code",
   "execution_count": 53,
   "metadata": {},
   "outputs": [
    {
     "name": "stdout",
     "output_type": "stream",
     "text": [
      "780\n"
     ]
    }
   ],
   "source": [
    "#Total Number of Players\n",
    "NumPlayers=df['Age'].count()\n",
    "print(str(NumPlayers))"
   ]
  },
  {
   "cell_type": "markdown",
   "metadata": {},
   "source": [
    "#### Number of Unique Items\n",
    "#### Average Purchase Price\n",
    "#### Total Number of Purchases\n",
    "#### Total Revenue"
   ]
  },
  {
   "cell_type": "markdown",
   "metadata": {},
   "source": [
    "### Number of Unique Items"
   ]
  },
  {
   "cell_type": "code",
   "execution_count": 54,
   "metadata": {},
   "outputs": [
    {
     "data": {
      "text/plain": [
       "178"
      ]
     },
     "execution_count": 54,
     "metadata": {},
     "output_type": "execute_result"
    }
   ],
   "source": [
    "# Number of Unique Items\n",
    "len(df.groupby(['ItemName'])['Price'].count())\n",
    "# Average Purchase Price\n",
    "\n",
    "\n"
   ]
  },
  {
   "cell_type": "markdown",
   "metadata": {},
   "source": [
    "#### Average Purchase Price"
   ]
  },
  {
   "cell_type": "code",
   "execution_count": 55,
   "metadata": {},
   "outputs": [
    {
     "data": {
      "text/plain": [
       "3.0322692307692298"
      ]
     },
     "execution_count": 55,
     "metadata": {},
     "output_type": "execute_result"
    }
   ],
   "source": [
    "# Average Purchase Price\n",
    "NumPlayers=df['Age'].count()\n",
    "df['Price'].sum()/NumPlayers"
   ]
  },
  {
   "cell_type": "markdown",
   "metadata": {},
   "source": [
    "#### Total Number of Purchases"
   ]
  },
  {
   "cell_type": "code",
   "execution_count": 56,
   "metadata": {},
   "outputs": [
    {
     "name": "stdout",
     "output_type": "stream",
     "text": [
      "780\n"
     ]
    }
   ],
   "source": [
    "# Total Number of Purchases\n",
    "NumPlayers=df['ItemID'].count()\n",
    "print(str(NumPlayers))"
   ]
  },
  {
   "cell_type": "markdown",
   "metadata": {},
   "source": [
    "#### Total Revenue"
   ]
  },
  {
   "cell_type": "code",
   "execution_count": 57,
   "metadata": {},
   "outputs": [
    {
     "data": {
      "text/plain": [
       "2365.169999999999"
      ]
     },
     "execution_count": 57,
     "metadata": {},
     "output_type": "execute_result"
    }
   ],
   "source": [
    "# Total Revenue\n",
    "df['Price'].sum()"
   ]
  },
  {
   "cell_type": "markdown",
   "metadata": {},
   "source": [
    "### Gender Demographics\n",
    "#### Percentage and Count of Male Players"
   ]
  },
  {
   "cell_type": "code",
   "execution_count": 58,
   "metadata": {},
   "outputs": [
    {
     "name": "stdout",
     "output_type": "stream",
     "text": [
      "Per:82.31 Count:642\n"
     ]
    }
   ],
   "source": [
    "\n",
    "# Percentage and Count of Male Players\n",
    "#df.loc[df.country == 'US']['id'].count()\n",
    "#df1['average_backer_us'] = df.loc[df.country == 'US']['id'].count()/df['backers_count'].\n",
    "male_per=100*df.loc[df.Gender == 'Male']['SN'].count()/NumPlayers\n",
    "print ( \"Per:\" +str(round(male_per,2)) +\" Count:\"+str(df.loc[df.Gender == 'Male']['SN'].count()) )\n",
    "\n",
    "\n"
   ]
  },
  {
   "cell_type": "markdown",
   "metadata": {},
   "source": [
    "#### Percentage and Count of Female Players"
   ]
  },
  {
   "cell_type": "code",
   "execution_count": 59,
   "metadata": {},
   "outputs": [
    {
     "name": "stdout",
     "output_type": "stream",
     "text": [
      "Per:16.67Count:130\n"
     ]
    }
   ],
   "source": [
    "# Percentage and Count of Female Players\n",
    "female_per=100*df.loc[df.Gender == 'Female']['SN'].count()/NumPlayers\n",
    "print ( \"Per:\"+ str(round(female_per,2)) + \"Count:\"+str(df.loc[df.Gender == 'Female']['SN'].count()) )"
   ]
  },
  {
   "cell_type": "markdown",
   "metadata": {},
   "source": [
    "#### Percentage and Count of Other / Non-Disclosed"
   ]
  },
  {
   "cell_type": "code",
   "execution_count": 60,
   "metadata": {},
   "outputs": [
    {
     "name": "stdout",
     "output_type": "stream",
     "text": [
      "Per:1.03Count: 8\n"
     ]
    }
   ],
   "source": [
    "# Percentage and Count of Other / Non-Disclosed\n",
    "#surveys_df[(surveys_df.year >= 1980) & (surveys_df.year <= 1985)]\n",
    "nether_count = df.loc[(df.Gender != 'Female') & ( df.Gender != 'Male') ]['SN'].count()\n",
    "nether_per=100*df.loc[(df.Gender != 'Female') & ( df.Gender != 'Male') ]['SN'].count()/NumPlayers\n",
    "print ( \"Per:\"+ str(round(nether_per,2))+\"Count: \"+ str(nether_count) )"
   ]
  },
  {
   "cell_type": "markdown",
   "metadata": {},
   "source": [
    "### Purchasing Analysis"
   ]
  },
  {
   "cell_type": "code",
   "execution_count": 74,
   "metadata": {},
   "outputs": [
    {
     "name": "stdout",
     "output_type": "stream",
     "text": [
      "Purchase stats by Male---\n",
      "Purchase Count:642 Avg Price:3.03 Sum Val:1945.51Norm Tot:4.1\n"
     ]
    }
   ],
   "source": [
    "# The below each broken by gender\n",
    "  # Purchase Count\n",
    "pcou = df.loc[df.Gender == 'Male']['SN'].count()\n",
    "  # Average Purchase Price\n",
    "pavg =  df.loc[df.Gender == 'Male']['Price'].mean()\n",
    "  # Total Purchase Value\n",
    "pval = df.loc[df.Gender == 'Male']['Price'].sum()\n",
    "  # Normalized Totals\n",
    "df_male = df.loc[(df.Gender == 'Male')]\n",
    "unique_count = len(df_male.groupby(['SN'])['SN'].count())\n",
    "norm = round(pval/unique_count,2)    \n",
    "print(\"Purchase stats by Male---\")\n",
    "print (\"Purchase Count:\"+str(pcou)+\" Avg Price:\"+str(round(pavg,2))+\" Sum Val:\"+str(round(pval,2))+ \"Norm Tot:\"+str(norm))"
   ]
  },
  {
   "cell_type": "code",
   "execution_count": 76,
   "metadata": {},
   "outputs": [
    {
     "name": "stdout",
     "output_type": "stream",
     "text": [
      "Purchase stats by Female---\n",
      "Purchase Count:130 Avg Price:3.04 Sum Val:395.8Norm Tot:4.0\n"
     ]
    }
   ],
   "source": [
    "# The below each broken by gender\n",
    "  # Purchase Count\n",
    "pcou = df.loc[df.Gender == 'Female']['SN'].count()\n",
    "  # Average Purchase Price\n",
    "pavg =  df.loc[df.Gender == 'Female']['Price'].mean()\n",
    "  # Total Purchase Value\n",
    "pval = df.loc[df.Gender == 'Female']['Price'].sum()\n",
    "df_female = df.loc[(df.Gender == 'Female')]\n",
    "unique_count = len(df_female.groupby(['SN'])['SN'].count())\n",
    "norm = round(pval/unique_count,2)    \n",
    "  # Normalized Totals\n",
    "print(\"Purchase stats by Female---\")\n",
    "print (\"Purchase Count:\"+str(pcou)+\" Avg Price:\"+str(round(pavg,2))+\" Sum Val:\"+str(round(pval,2))+ \"Norm Tot:\"+str(norm))"
   ]
  },
  {
   "cell_type": "markdown",
   "metadata": {},
   "source": [
    "#### **Age Demographics**"
   ]
  },
  {
   "cell_type": "code",
   "execution_count": 63,
   "metadata": {
    "collapsed": true
   },
   "outputs": [],
   "source": [
    "#df.loc[ df.SN == 'Undirrala66']  "
   ]
  },
  {
   "cell_type": "code",
   "execution_count": 78,
   "metadata": {},
   "outputs": [
    {
     "name": "stdout",
     "output_type": "stream",
     "text": [
      "Average 10 under:2.92 Sum: 107.96Norm:4.15\n",
      "Average 14 under:2.98 Sum: 92.42Norm:4.4\n",
      "Average 19 under:2.99 Sum: 310.72Norm:4.09\n"
     ]
    }
   ],
   "source": [
    "#**Age Demographics**\n",
    "\n",
    "#* The below each broken into bins of 4 years (i.e. &lt;10, 10-14, 15-19, etc.) \n",
    "#  * Purchase Count\n",
    "df_10 = df.loc[df.Age < 10]\n",
    "\n",
    "avg_10 = df_10['Price'].sum()/df_10['Price'].count()\n",
    "tot_10 = df_10['Price'].sum() \n",
    "unique_count_10 = len(df_10.groupby(['SN'])['SN'].count())\n",
    "norm_10 = round(tot_10/unique_count_10,2)    \n",
    "\n",
    "df_14 = df.loc[ ( df.Age >= 10 ) & (df.Age <= 14) ]\n",
    "\n",
    "avg_14 = df_14['Price'].sum()/df_14['Price'].count()\n",
    "tot_14 = df_14['Price'].sum() \n",
    "unique_count_14 = len(df_14.groupby(['SN'])['SN'].count())\n",
    "norm_14 = round(tot_14/unique_count_14,2)    \n",
    "\n",
    "df_19 = df.loc[ ( df.Age <= 15 ) & (df.Age <= 19) ]\n",
    "\n",
    "avg_19 = df_19['Price'].sum()/df_19['Price'].count()\n",
    "tot_19 = df_19['Price'].sum() \n",
    "unique_count_19 = len(df_19.groupby(['SN'])['SN'].count())\n",
    "norm_19 = round(tot_19/unique_count_19,2)  \n",
    "\n",
    "#df_19\n",
    "#  * Average Purchase Price\n",
    "#  * Total Purchase Value\n",
    "#  * Normalized Totals\n",
    "print(\"Average 10 under:\"+str(round(avg_10,2))+\" Sum: \"+str(round(tot_10,2))+\"Norm:\"+str(norm_10) )\n",
    "print(\"Average 14 under:\"+str(round(avg_14,2))+\" Sum: \"+str(round(tot_14,2))+\"Norm:\"+str(norm_14) )\n",
    "print(\"Average 19 under:\"+str(round(avg_19,2))+\" Sum: \"+str(round(tot_19,2))+\"Norm:\"+str(norm_19) )\n",
    " "
   ]
  },
  {
   "cell_type": "markdown",
   "metadata": {},
   "source": [
    "#### Top Spenders"
   ]
  },
  {
   "cell_type": "code",
   "execution_count": 65,
   "metadata": {},
   "outputs": [
    {
     "data": {
      "text/html": [
       "<div>\n",
       "<style>\n",
       "    .dataframe thead tr:only-child th {\n",
       "        text-align: right;\n",
       "    }\n",
       "\n",
       "    .dataframe thead th {\n",
       "        text-align: left;\n",
       "    }\n",
       "\n",
       "    .dataframe tbody tr th {\n",
       "        vertical-align: top;\n",
       "    }\n",
       "</style>\n",
       "<table border=\"1\" class=\"dataframe\">\n",
       "  <thead>\n",
       "    <tr style=\"text-align: right;\">\n",
       "      <th></th>\n",
       "      <th>Age</th>\n",
       "      <th>ItemID</th>\n",
       "      <th>Price</th>\n",
       "      <th>Counts</th>\n",
       "      <th>Average</th>\n",
       "      <th>Sum</th>\n",
       "    </tr>\n",
       "    <tr>\n",
       "      <th>SN</th>\n",
       "      <th></th>\n",
       "      <th></th>\n",
       "      <th></th>\n",
       "      <th></th>\n",
       "      <th></th>\n",
       "      <th></th>\n",
       "    </tr>\n",
       "  </thead>\n",
       "  <tbody>\n",
       "    <tr>\n",
       "      <th>Chamalo71</th>\n",
       "      <td>148</td>\n",
       "      <td>533</td>\n",
       "      <td>13.45</td>\n",
       "      <td>4</td>\n",
       "      <td>3.362500</td>\n",
       "      <td>13.45</td>\n",
       "    </tr>\n",
       "    <tr>\n",
       "      <th>Strithenu87</th>\n",
       "      <td>96</td>\n",
       "      <td>237</td>\n",
       "      <td>12.83</td>\n",
       "      <td>4</td>\n",
       "      <td>3.207500</td>\n",
       "      <td>12.83</td>\n",
       "    </tr>\n",
       "    <tr>\n",
       "      <th>Mindosia50</th>\n",
       "      <td>69</td>\n",
       "      <td>321</td>\n",
       "      <td>12.01</td>\n",
       "      <td>3</td>\n",
       "      <td>4.003333</td>\n",
       "      <td>12.01</td>\n",
       "    </tr>\n",
       "    <tr>\n",
       "      <th>Aeralria27</th>\n",
       "      <td>72</td>\n",
       "      <td>211</td>\n",
       "      <td>11.38</td>\n",
       "      <td>3</td>\n",
       "      <td>3.793333</td>\n",
       "      <td>11.38</td>\n",
       "    </tr>\n",
       "    <tr>\n",
       "      <th>Eudai71</th>\n",
       "      <td>36</td>\n",
       "      <td>242</td>\n",
       "      <td>11.37</td>\n",
       "      <td>3</td>\n",
       "      <td>3.790000</td>\n",
       "      <td>11.37</td>\n",
       "    </tr>\n",
       "  </tbody>\n",
       "</table>\n",
       "</div>"
      ],
      "text/plain": [
       "             Age  ItemID  Price  Counts   Average    Sum\n",
       "SN                                                      \n",
       "Chamalo71    148     533  13.45       4  3.362500  13.45\n",
       "Strithenu87   96     237  12.83       4  3.207500  12.83\n",
       "Mindosia50    69     321  12.01       3  4.003333  12.01\n",
       "Aeralria27    72     211  11.38       3  3.793333  11.38\n",
       "Eudai71       36     242  11.37       3  3.790000  11.37"
      ]
     },
     "execution_count": 65,
     "metadata": {},
     "output_type": "execute_result"
    }
   ],
   "source": [
    "# Identify the the top 5 spenders in the game by total purchase value, then list (in a table):\n",
    "  # SN  df.groupby('A').sum().sort('B')\n",
    "  \n",
    "\n",
    "df1 = df.groupby('SN', sort=False).sum()  \n",
    "df1['Counts'] = df.groupby(['SN'])['Price'].count()\n",
    "df1['Average'] = df.groupby(['SN'])['Price'].mean()\n",
    "df1['Sum'] = df.groupby(['SN'])['Price'].sum()\n",
    "df1.sort_values(['Price'], ascending=False, inplace=True)\n",
    "df1.head(5)\n",
    "\n"
   ]
  },
  {
   "cell_type": "markdown",
   "metadata": {},
   "source": [
    "#### Most Popular Items"
   ]
  },
  {
   "cell_type": "code",
   "execution_count": 66,
   "metadata": {},
   "outputs": [
    {
     "data": {
      "text/html": [
       "<div>\n",
       "<style>\n",
       "    .dataframe thead tr:only-child th {\n",
       "        text-align: right;\n",
       "    }\n",
       "\n",
       "    .dataframe thead th {\n",
       "        text-align: left;\n",
       "    }\n",
       "\n",
       "    .dataframe tbody tr th {\n",
       "        vertical-align: top;\n",
       "    }\n",
       "</style>\n",
       "<table border=\"1\" class=\"dataframe\">\n",
       "  <thead>\n",
       "    <tr style=\"text-align: right;\">\n",
       "      <th></th>\n",
       "      <th>Age</th>\n",
       "      <th>Gender</th>\n",
       "      <th>ItemID</th>\n",
       "      <th>Price</th>\n",
       "      <th>SN</th>\n",
       "      <th>ItemCount</th>\n",
       "    </tr>\n",
       "    <tr>\n",
       "      <th>ItemName</th>\n",
       "      <th></th>\n",
       "      <th></th>\n",
       "      <th></th>\n",
       "      <th></th>\n",
       "      <th></th>\n",
       "      <th></th>\n",
       "    </tr>\n",
       "  </thead>\n",
       "  <tbody>\n",
       "    <tr>\n",
       "      <th>Hatred</th>\n",
       "      <td>11</td>\n",
       "      <td>11</td>\n",
       "      <td>11</td>\n",
       "      <td>11</td>\n",
       "      <td>11</td>\n",
       "      <td>11</td>\n",
       "    </tr>\n",
       "    <tr>\n",
       "      <th>Final Critic</th>\n",
       "      <td>11</td>\n",
       "      <td>11</td>\n",
       "      <td>11</td>\n",
       "      <td>11</td>\n",
       "      <td>11</td>\n",
       "      <td>11</td>\n",
       "    </tr>\n",
       "    <tr>\n",
       "      <th>Misery's End</th>\n",
       "      <td>9</td>\n",
       "      <td>9</td>\n",
       "      <td>9</td>\n",
       "      <td>9</td>\n",
       "      <td>9</td>\n",
       "      <td>9</td>\n",
       "    </tr>\n",
       "    <tr>\n",
       "      <th>Primitive Blade</th>\n",
       "      <td>9</td>\n",
       "      <td>9</td>\n",
       "      <td>9</td>\n",
       "      <td>9</td>\n",
       "      <td>9</td>\n",
       "      <td>9</td>\n",
       "    </tr>\n",
       "    <tr>\n",
       "      <th>Brutality Ivory Warmace</th>\n",
       "      <td>8</td>\n",
       "      <td>8</td>\n",
       "      <td>8</td>\n",
       "      <td>8</td>\n",
       "      <td>8</td>\n",
       "      <td>8</td>\n",
       "    </tr>\n",
       "  </tbody>\n",
       "</table>\n",
       "</div>"
      ],
      "text/plain": [
       "                         Age  Gender  ItemID  Price  SN  ItemCount\n",
       "ItemName                                                          \n",
       "Hatred                    11      11      11     11  11         11\n",
       "Final Critic              11      11      11     11  11         11\n",
       "Misery's End               9       9       9      9   9          9\n",
       "Primitive Blade            9       9       9      9   9          9\n",
       "Brutality Ivory Warmace    8       8       8      8   8          8"
      ]
     },
     "execution_count": 66,
     "metadata": {},
     "output_type": "execute_result"
    }
   ],
   "source": [
    "# Identify the 5 most popular items by purchase count, then list (in a table):\n",
    "#  * Item ID\n",
    "#  * Item Name\n",
    "#  * Purchase Count\n",
    "#  * Item Price\n",
    "#  * Total Purchase Value\n",
    "df2 = df.groupby('ItemName', sort=False).count() \n",
    "df2['ItemCount'] = df.groupby(['ItemName'])['Price'].count()\n",
    "df2.sort_values(['ItemCount'], ascending=False, inplace=True)\n",
    "df2.head(5)"
   ]
  },
  {
   "cell_type": "code",
   "execution_count": 67,
   "metadata": {},
   "outputs": [
    {
     "data": {
      "text/html": [
       "<div>\n",
       "<style>\n",
       "    .dataframe thead tr:only-child th {\n",
       "        text-align: right;\n",
       "    }\n",
       "\n",
       "    .dataframe thead th {\n",
       "        text-align: left;\n",
       "    }\n",
       "\n",
       "    .dataframe tbody tr th {\n",
       "        vertical-align: top;\n",
       "    }\n",
       "</style>\n",
       "<table border=\"1\" class=\"dataframe\">\n",
       "  <thead>\n",
       "    <tr style=\"text-align: right;\">\n",
       "      <th></th>\n",
       "      <th>Age</th>\n",
       "      <th>Gender</th>\n",
       "      <th>ItemID</th>\n",
       "      <th>ItemName</th>\n",
       "      <th>Price</th>\n",
       "      <th>SN</th>\n",
       "    </tr>\n",
       "  </thead>\n",
       "  <tbody>\n",
       "    <tr>\n",
       "      <th>204</th>\n",
       "      <td>28</td>\n",
       "      <td>Female</td>\n",
       "      <td>84</td>\n",
       "      <td>Arcane Gem</td>\n",
       "      <td>4.85</td>\n",
       "      <td>Saistyphos30</td>\n",
       "    </tr>\n",
       "    <tr>\n",
       "      <th>274</th>\n",
       "      <td>16</td>\n",
       "      <td>Male</td>\n",
       "      <td>84</td>\n",
       "      <td>Arcane Gem</td>\n",
       "      <td>4.85</td>\n",
       "      <td>Ririp86</td>\n",
       "    </tr>\n",
       "    <tr>\n",
       "      <th>658</th>\n",
       "      <td>42</td>\n",
       "      <td>Male</td>\n",
       "      <td>84</td>\n",
       "      <td>Arcane Gem</td>\n",
       "      <td>4.85</td>\n",
       "      <td>Halaecal66</td>\n",
       "    </tr>\n",
       "  </tbody>\n",
       "</table>\n",
       "</div>"
      ],
      "text/plain": [
       "     Age  Gender  ItemID    ItemName  Price            SN\n",
       "204   28  Female      84  Arcane Gem   4.85  Saistyphos30\n",
       "274   16    Male      84  Arcane Gem   4.85       Ririp86\n",
       "658   42    Male      84  Arcane Gem   4.85    Halaecal66"
      ]
     },
     "execution_count": 67,
     "metadata": {},
     "output_type": "execute_result"
    }
   ],
   "source": [
    "df.loc[df.ItemName=='Arcane Gem']"
   ]
  },
  {
   "cell_type": "markdown",
   "metadata": {},
   "source": [
    "#### Most Profitable Items"
   ]
  },
  {
   "cell_type": "code",
   "execution_count": 68,
   "metadata": {
    "collapsed": true
   },
   "outputs": [],
   "source": [
    "#**Most Profitable Items**\n",
    "df2 = df.groupby('ItemName', sort=False).count() \n",
    "df2.sort_values(['Price'], ascending=False, inplace=True)\n",
    "df2['ItemValue'] = df.groupby(['ItemName'])['Price'].sum()\n",
    "df2.sort_values(['ItemValue'], ascending=False, inplace=True)\n",
    "df2.head(5)\n",
    "df3 = df2.loc[:,['ItemValue']]\n",
    "df4 = df3[0:5]\n",
    "# Identify the 5 most profitable items by total purchase value, then list (in a table):\n",
    "#  * Item ID\n",
    "#  * Item Name\n",
    "#  * Purchase Count\n",
    "#  * Item Price\n",
    "#  * Total Purchase Value"
   ]
  },
  {
   "cell_type": "code",
   "execution_count": 79,
   "metadata": {},
   "outputs": [
    {
     "data": {
      "image/png": "[encoded data removed]",
      "text/plain": [
       "<matplotlib.figure.Figure at 0x1c8da7ecba8>"
      ]
     },
     "metadata": {},
     "output_type": "display_data"
    }
   ],
   "source": [
    "df4.plot(x=df4[\"ItemValue\"], kind=\"barh\", figsize=(20, 3), title=\"Most Profitable Items\")\n",
    "plt.show()"
   ]
  },
  {
   "cell_type": "code",
   "execution_count": 70,
   "metadata": {},
   "outputs": [
    {
     "data": {
      "image/png": "[encoded data removed]",
      "text/plain": [
       "<matplotlib.figure.Figure at 0x1c8da7aa390>"
      ]
     },
     "metadata": {},
     "output_type": "display_data"
    }
   ],
   "source": [
    "plt.figure(figsize = (20,3))\n",
    "\n",
    "x_axis  = np.arange(len(df4['ItemValue'].tolist()))\n",
    "y_axis  = df4['ItemValue'].tolist()\n",
    "tick_locations = [value for value in x_axis]\n",
    "plt.xticks(tick_locations, [ ])\n",
    "\n",
    "plt.barh(x_axis, y_axis, color='r', alpha=0.5, align=\"center\")\n",
    "\n",
    "tick_locations = [value for value in x_axis]\n",
    "plt.xticks(tick_locations, x_axis  )\n",
    "\n",
    "plt.show()"
   ]
  },
  {
   "cell_type": "code",
   "execution_count": null,
   "metadata": {
    "collapsed": true
   },
   "outputs": [],
   "source": []
  },
  {
   "cell_type": "code",
   "execution_count": null,
   "metadata": {
    "collapsed": true
   },
   "outputs": [],
   "source": []
  }
 ],
 "metadata": {
  "kernelspec": {
   "display_name": "Python [default]",
   "language": "python",
   "name": "python3"
  },
  "language_info": {
   "codemirror_mode": {
    "name": "ipython",
    "version": 3
   },
   "file_extension": ".py",
   "mimetype": "text/x-python",
   "name": "python",
   "nbconvert_exporter": "python",
   "pygments_lexer": "ipython3",
   "version": "3.6.1"
  }
 },
 "nbformat": 4,
 "nbformat_minor": 2
}
