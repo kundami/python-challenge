{
 "cells": [
  {
   "cell_type": "markdown",
   "metadata": {},
   "source": [
    "## Heros of Pymoli\n",
    "#### Observed Trend 1\n",
    "#### Men are 4 times more likely to be playing and purchasing Video games ( Men - 81% Women - 17%)\n",
    "#### Observed Trend 2\n",
    "#### As you age you trend to spend more on video games\n",
    "#### Observed Trend 3\n",
    "#### Top 5 most popular games are also Highest Grossing games."
   ]
  },
  {
   "cell_type": "code",
   "execution_count": 7,
   "metadata": {
    "collapsed": true
   },
   "outputs": [],
   "source": [
    "import pandas as pd\n",
    "import numpy as np\n",
    "import matplotlib.pyplot as plt"
   ]
  },
  {
   "cell_type": "code",
   "execution_count": 8,
   "metadata": {},
   "outputs": [
    {
     "data": {
      "text/html": [
       "<div>\n",
       "<style>\n",
       "    .dataframe thead tr:only-child th {\n",
       "        text-align: right;\n",
       "    }\n",
       "\n",
       "    .dataframe thead th {\n",
       "        text-align: left;\n",
       "    }\n",
       "\n",
       "    .dataframe tbody tr th {\n",
       "        vertical-align: top;\n",
       "    }\n",
       "</style>\n",
       "<table border=\"1\" class=\"dataframe\">\n",
       "  <thead>\n",
       "    <tr style=\"text-align: right;\">\n",
       "      <th></th>\n",
       "      <th>Age</th>\n",
       "      <th>Gender</th>\n",
       "      <th>ItemID</th>\n",
       "      <th>ItemName</th>\n",
       "      <th>Price</th>\n",
       "      <th>SN</th>\n",
       "    </tr>\n",
       "  </thead>\n",
       "  <tbody>\n",
       "    <tr>\n",
       "      <th>0</th>\n",
       "      <td>38</td>\n",
       "      <td>Male</td>\n",
       "      <td>165</td>\n",
       "      <td>Bone Crushing Silver Skewer</td>\n",
       "      <td>3.37</td>\n",
       "      <td>Aelalis34</td>\n",
       "    </tr>\n",
       "    <tr>\n",
       "      <th>1</th>\n",
       "      <td>21</td>\n",
       "      <td>Male</td>\n",
       "      <td>119</td>\n",
       "      <td>Stormbringer, Dark Blade of Ending Misery</td>\n",
       "      <td>2.32</td>\n",
       "      <td>Eolo46</td>\n",
       "    </tr>\n",
       "    <tr>\n",
       "      <th>2</th>\n",
       "      <td>34</td>\n",
       "      <td>Male</td>\n",
       "      <td>174</td>\n",
       "      <td>Primitive Blade</td>\n",
       "      <td>2.46</td>\n",
       "      <td>Assastnya25</td>\n",
       "    </tr>\n",
       "    <tr>\n",
       "      <th>3</th>\n",
       "      <td>21</td>\n",
       "      <td>Male</td>\n",
       "      <td>92</td>\n",
       "      <td>Final Critic</td>\n",
       "      <td>1.36</td>\n",
       "      <td>Pheusrical25</td>\n",
       "    </tr>\n",
       "    <tr>\n",
       "      <th>4</th>\n",
       "      <td>23</td>\n",
       "      <td>Male</td>\n",
       "      <td>63</td>\n",
       "      <td>Stormfury Mace</td>\n",
       "      <td>1.27</td>\n",
       "      <td>Aela59</td>\n",
       "    </tr>\n",
       "  </tbody>\n",
       "</table>\n",
       "</div>"
      ],
      "text/plain": [
       "   Age Gender  ItemID                                   ItemName  Price  \\\n",
       "0   38   Male     165                Bone Crushing Silver Skewer   3.37   \n",
       "1   21   Male     119  Stormbringer, Dark Blade of Ending Misery   2.32   \n",
       "2   34   Male     174                            Primitive Blade   2.46   \n",
       "3   21   Male      92                               Final Critic   1.36   \n",
       "4   23   Male      63                             Stormfury Mace   1.27   \n",
       "\n",
       "             SN  \n",
       "0     Aelalis34  \n",
       "1        Eolo46  \n",
       "2   Assastnya25  \n",
       "3  Pheusrical25  \n",
       "4        Aela59  "
      ]
     },
     "execution_count": 8,
     "metadata": {},
     "output_type": "execute_result"
    }
   ],
   "source": [
    "df = pd.read_json(\"purchase_data.json\")\n",
    "df.columns = [ 'Age','Gender','ItemID','ItemName','Price','SN']\n",
    "df.to_csv(\"output/purchase.csv\")\n",
    "#df.to_csv('out.csv')\n",
    "df.head(5)\n"
   ]
  },
  {
   "cell_type": "markdown",
   "metadata": {},
   "source": [
    "#### Player Count"
   ]
  },
  {
   "cell_type": "code",
   "execution_count": 28,
   "metadata": {},
   "outputs": [
    {
     "name": "stdout",
     "output_type": "stream",
     "text": [
      "573\n"
     ]
    },
    {
     "data": {
      "text/html": [
       "<div>\n",
       "<style>\n",
       "    .dataframe thead tr:only-child th {\n",
       "        text-align: right;\n",
       "    }\n",
       "\n",
       "    .dataframe thead th {\n",
       "        text-align: left;\n",
       "    }\n",
       "\n",
       "    .dataframe tbody tr th {\n",
       "        vertical-align: top;\n",
       "    }\n",
       "</style>\n",
       "<table border=\"1\" class=\"dataframe\">\n",
       "  <thead>\n",
       "    <tr style=\"text-align: right;\">\n",
       "      <th></th>\n",
       "      <th>Total Players</th>\n",
       "    </tr>\n",
       "  </thead>\n",
       "  <tbody>\n",
       "    <tr>\n",
       "      <th>0</th>\n",
       "      <td>573</td>\n",
       "    </tr>\n",
       "  </tbody>\n",
       "</table>\n",
       "</div>"
      ],
      "text/plain": [
       "   Total Players\n",
       "0            573"
      ]
     },
     "execution_count": 28,
     "metadata": {},
     "output_type": "execute_result"
    }
   ],
   "source": [
    "#Total Number of Players\n",
    "df2 = df.loc[:,['Gender', 'Age', 'SN']]\n",
    "df2.drop_duplicates()\n",
    "df2.head(5)\n",
    "\n",
    "NumPlayers=df2.count()[0]\n",
    "NumPlayers=len(df.groupby(['SN'])['SN'].count())\n",
    "\n",
    "#print(str(NumPlayers))\n",
    "\n",
    "display = pd.DataFrame({\"Total Players\" : [NumPlayers] })\n",
    "display"
   ]
  },
  {
   "cell_type": "markdown",
   "metadata": {},
   "source": [
    "### Number of Unique Items"
   ]
  },
  {
   "cell_type": "code",
   "execution_count": 29,
   "metadata": {},
   "outputs": [
    {
     "data": {
      "text/html": [
       "<div>\n",
       "<style>\n",
       "    .dataframe thead tr:only-child th {\n",
       "        text-align: right;\n",
       "    }\n",
       "\n",
       "    .dataframe thead th {\n",
       "        text-align: left;\n",
       "    }\n",
       "\n",
       "    .dataframe tbody tr th {\n",
       "        vertical-align: top;\n",
       "    }\n",
       "</style>\n",
       "<table border=\"1\" class=\"dataframe\">\n",
       "  <thead>\n",
       "    <tr style=\"text-align: right;\">\n",
       "      <th></th>\n",
       "      <th>Unique Items</th>\n",
       "    </tr>\n",
       "  </thead>\n",
       "  <tbody>\n",
       "    <tr>\n",
       "      <th>0</th>\n",
       "      <td>179</td>\n",
       "    </tr>\n",
       "  </tbody>\n",
       "</table>\n",
       "</div>"
      ],
      "text/plain": [
       "   Unique Items\n",
       "0           179"
      ]
     },
     "execution_count": 29,
     "metadata": {},
     "output_type": "execute_result"
    }
   ],
   "source": [
    "# Number of Unique Items\n",
    "len(df.groupby(['ItemName'])['Price'].count())\n",
    "# Average Purchase Price\n",
    "display = pd.DataFrame({\"Unique Items\" : [len(df.groupby(['ItemName'])['Price'].count())] })\n",
    "display\n",
    "\n"
   ]
  },
  {
   "cell_type": "markdown",
   "metadata": {},
   "source": [
    "#### Average Purchase Price"
   ]
  },
  {
   "cell_type": "code",
   "execution_count": 32,
   "metadata": {},
   "outputs": [
    {
     "data": {
      "text/html": [
       "<div>\n",
       "<style>\n",
       "    .dataframe thead tr:only-child th {\n",
       "        text-align: right;\n",
       "    }\n",
       "\n",
       "    .dataframe thead th {\n",
       "        text-align: left;\n",
       "    }\n",
       "\n",
       "    .dataframe tbody tr th {\n",
       "        vertical-align: top;\n",
       "    }\n",
       "</style>\n",
       "<table border=\"1\" class=\"dataframe\">\n",
       "  <thead>\n",
       "    <tr style=\"text-align: right;\">\n",
       "      <th></th>\n",
       "      <th>Average Price</th>\n",
       "    </tr>\n",
       "  </thead>\n",
       "  <tbody>\n",
       "    <tr>\n",
       "      <th>0</th>\n",
       "      <td>2.93</td>\n",
       "    </tr>\n",
       "  </tbody>\n",
       "</table>\n",
       "</div>"
      ],
      "text/plain": [
       "   Average Price\n",
       "0           2.93"
      ]
     },
     "execution_count": 32,
     "metadata": {},
     "output_type": "execute_result"
    }
   ],
   "source": [
    "# Average Purchase Price\n",
    "NumPlayers=df['Age'].count()\n",
    "df['Price'].sum()/NumPlayers\n",
    "\n",
    "df3 = df.loc[:,['ItemID', 'ItemName', 'Price']]\n",
    "df3.drop_duplicates()\n",
    "average_price = df3['Price'].mean()\n",
    "\n",
    "display = pd.DataFrame({\"Average Price\" : [round(average_price,2)] })\n",
    "display"
   ]
  },
  {
   "cell_type": "markdown",
   "metadata": {},
   "source": [
    "#### Total Number of Purchases"
   ]
  },
  {
   "cell_type": "code",
   "execution_count": 33,
   "metadata": {},
   "outputs": [
    {
     "name": "stdout",
     "output_type": "stream",
     "text": [
      "780\n"
     ]
    },
    {
     "data": {
      "text/html": [
       "<div>\n",
       "<style>\n",
       "    .dataframe thead tr:only-child th {\n",
       "        text-align: right;\n",
       "    }\n",
       "\n",
       "    .dataframe thead th {\n",
       "        text-align: left;\n",
       "    }\n",
       "\n",
       "    .dataframe tbody tr th {\n",
       "        vertical-align: top;\n",
       "    }\n",
       "</style>\n",
       "<table border=\"1\" class=\"dataframe\">\n",
       "  <thead>\n",
       "    <tr style=\"text-align: right;\">\n",
       "      <th></th>\n",
       "      <th>Total Number of Purchase</th>\n",
       "    </tr>\n",
       "  </thead>\n",
       "  <tbody>\n",
       "    <tr>\n",
       "      <th>0</th>\n",
       "      <td>780</td>\n",
       "    </tr>\n",
       "  </tbody>\n",
       "</table>\n",
       "</div>"
      ],
      "text/plain": [
       "   Total Number of Purchase\n",
       "0                       780"
      ]
     },
     "execution_count": 33,
     "metadata": {},
     "output_type": "execute_result"
    }
   ],
   "source": [
    "# Total Number of Purchases\n",
    "NumPlayers=df['ItemID'].count()\n",
    "print(str(NumPlayers))\n",
    "\n",
    "display = pd.DataFrame({\"Total Number of Purchase\" : [round(NumPlayers,2)] })\n",
    "display"
   ]
  },
  {
   "cell_type": "markdown",
   "metadata": {},
   "source": [
    "#### Total Revenue"
   ]
  },
  {
   "cell_type": "code",
   "execution_count": 34,
   "metadata": {},
   "outputs": [
    {
     "data": {
      "text/html": [
       "<div>\n",
       "<style>\n",
       "    .dataframe thead tr:only-child th {\n",
       "        text-align: right;\n",
       "    }\n",
       "\n",
       "    .dataframe thead th {\n",
       "        text-align: left;\n",
       "    }\n",
       "\n",
       "    .dataframe tbody tr th {\n",
       "        vertical-align: top;\n",
       "    }\n",
       "</style>\n",
       "<table border=\"1\" class=\"dataframe\">\n",
       "  <thead>\n",
       "    <tr style=\"text-align: right;\">\n",
       "      <th></th>\n",
       "      <th>Total Number of Purchase</th>\n",
       "    </tr>\n",
       "  </thead>\n",
       "  <tbody>\n",
       "    <tr>\n",
       "      <th>0</th>\n",
       "      <td>2286.33</td>\n",
       "    </tr>\n",
       "  </tbody>\n",
       "</table>\n",
       "</div>"
      ],
      "text/plain": [
       "   Total Number of Purchase\n",
       "0                   2286.33"
      ]
     },
     "execution_count": 34,
     "metadata": {},
     "output_type": "execute_result"
    }
   ],
   "source": [
    "# Total Revenue\n",
    "df['Price'].sum()\n",
    "display = pd.DataFrame({\"Total Number of Purchase\" : [round(df['Price'].sum(),2)] })\n",
    "display"
   ]
  },
  {
   "cell_type": "markdown",
   "metadata": {},
   "source": [
    "### Gender Demographics\n",
    "#### Percentage and Count of Male Players"
   ]
  },
  {
   "cell_type": "code",
   "execution_count": 36,
   "metadata": {},
   "outputs": [
    {
     "data": {
      "text/html": [
       "<div>\n",
       "<style>\n",
       "    .dataframe thead tr:only-child th {\n",
       "        text-align: right;\n",
       "    }\n",
       "\n",
       "    .dataframe thead th {\n",
       "        text-align: left;\n",
       "    }\n",
       "\n",
       "    .dataframe tbody tr th {\n",
       "        vertical-align: top;\n",
       "    }\n",
       "</style>\n",
       "<table border=\"1\" class=\"dataframe\">\n",
       "  <thead>\n",
       "    <tr style=\"text-align: right;\">\n",
       "      <th></th>\n",
       "      <th>Percentage Male</th>\n",
       "    </tr>\n",
       "  </thead>\n",
       "  <tbody>\n",
       "    <tr>\n",
       "      <th>0</th>\n",
       "      <td>81.0</td>\n",
       "    </tr>\n",
       "  </tbody>\n",
       "</table>\n",
       "</div>"
      ],
      "text/plain": [
       "   Percentage Male\n",
       "0             81.0"
      ]
     },
     "execution_count": 36,
     "metadata": {},
     "output_type": "execute_result"
    }
   ],
   "source": [
    "\n",
    "# Percentage and Count of Male Players\n",
    "#df.loc[df.country == 'US']['id'].count()\n",
    "#df1['average_backer_us'] = df.loc[df.country == 'US']['id'].count()/df['backers_count'].\n",
    "male_per=100*df.loc[df.Gender == 'Male']['SN'].count()/NumPlayers\n",
    "#print ( \"Per:\" +str(round(male_per,2)) +\" Count:\"+str(df.loc[df.Gender == 'Male']['SN'].count()) )\n",
    "\n",
    "display = pd.DataFrame({\"Percentage Male\" : [round(male_per)] })\n",
    "display\n"
   ]
  },
  {
   "cell_type": "markdown",
   "metadata": {},
   "source": [
    "#### Percentage and Count of Female Players"
   ]
  },
  {
   "cell_type": "code",
   "execution_count": 37,
   "metadata": {},
   "outputs": [
    {
     "name": "stdout",
     "output_type": "stream",
     "text": [
      "Per:17.44Count:136\n"
     ]
    },
    {
     "data": {
      "text/html": [
       "<div>\n",
       "<style>\n",
       "    .dataframe thead tr:only-child th {\n",
       "        text-align: right;\n",
       "    }\n",
       "\n",
       "    .dataframe thead th {\n",
       "        text-align: left;\n",
       "    }\n",
       "\n",
       "    .dataframe tbody tr th {\n",
       "        vertical-align: top;\n",
       "    }\n",
       "</style>\n",
       "<table border=\"1\" class=\"dataframe\">\n",
       "  <thead>\n",
       "    <tr style=\"text-align: right;\">\n",
       "      <th></th>\n",
       "      <th>Percentage Female</th>\n",
       "    </tr>\n",
       "  </thead>\n",
       "  <tbody>\n",
       "    <tr>\n",
       "      <th>0</th>\n",
       "      <td>17.0</td>\n",
       "    </tr>\n",
       "  </tbody>\n",
       "</table>\n",
       "</div>"
      ],
      "text/plain": [
       "   Percentage Female\n",
       "0               17.0"
      ]
     },
     "execution_count": 37,
     "metadata": {},
     "output_type": "execute_result"
    }
   ],
   "source": [
    "# Percentage and Count of Female Players\n",
    "female_per=100*df.loc[df.Gender == 'Female']['SN'].count()/NumPlayers\n",
    "print ( \"Per:\"+ str(round(female_per,2)) + \"Count:\"+str(df.loc[df.Gender == 'Female']['SN'].count()) )\n",
    "\n",
    "\n",
    "display = pd.DataFrame({\"Percentage Female\" : [round(female_per)] })\n",
    "display"
   ]
  },
  {
   "cell_type": "markdown",
   "metadata": {},
   "source": [
    "#### Percentage and Count of Other / Non-Disclosed"
   ]
  },
  {
   "cell_type": "code",
   "execution_count": 40,
   "metadata": {},
   "outputs": [
    {
     "name": "stdout",
     "output_type": "stream",
     "text": [
      "Per:1.41Count: 11\n"
     ]
    },
    {
     "data": {
      "text/html": [
       "<div>\n",
       "<style>\n",
       "    .dataframe thead tr:only-child th {\n",
       "        text-align: right;\n",
       "    }\n",
       "\n",
       "    .dataframe thead th {\n",
       "        text-align: left;\n",
       "    }\n",
       "\n",
       "    .dataframe tbody tr th {\n",
       "        vertical-align: top;\n",
       "    }\n",
       "</style>\n",
       "<table border=\"1\" class=\"dataframe\">\n",
       "  <thead>\n",
       "    <tr style=\"text-align: right;\">\n",
       "      <th></th>\n",
       "      <th>Count</th>\n",
       "      <th>Percentage Other</th>\n",
       "    </tr>\n",
       "  </thead>\n",
       "  <tbody>\n",
       "    <tr>\n",
       "      <th>0</th>\n",
       "      <td>11</td>\n",
       "      <td>1.41</td>\n",
       "    </tr>\n",
       "  </tbody>\n",
       "</table>\n",
       "</div>"
      ],
      "text/plain": [
       "   Count  Percentage Other\n",
       "0     11              1.41"
      ]
     },
     "execution_count": 40,
     "metadata": {},
     "output_type": "execute_result"
    }
   ],
   "source": [
    "# Percentage and Count of Other / Non-Disclosed\n",
    "#surveys_df[(surveys_df.year >= 1980) & (surveys_df.year <= 1985)]\n",
    "nether_count = df.loc[(df.Gender != 'Female') & ( df.Gender != 'Male') ]['SN'].count()\n",
    "nether_per=100*df.loc[(df.Gender != 'Female') & ( df.Gender != 'Male') ]['SN'].count()/NumPlayers\n",
    "print ( \"Per:\"+ str(round(nether_per,2))+\"Count: \"+ str(nether_count) )\n",
    "\n",
    "\n",
    "display = pd.DataFrame({\"Percentage Other\" : [round(nether_per,2)], \n",
    "                        \"Count\" : [round(nether_count,2)] })\n",
    "display"
   ]
  },
  {
   "cell_type": "markdown",
   "metadata": {},
   "source": [
    "### Purchasing Analysis"
   ]
  },
  {
   "cell_type": "code",
   "execution_count": 43,
   "metadata": {
    "scrolled": true
   },
   "outputs": [
    {
     "name": "stdout",
     "output_type": "stream",
     "text": [
      "Purchase stats by Male---\n",
      "Purchase Count:633 Avg Price:2.95 Sum Val:1867.68Norm Tot:4.02\n"
     ]
    },
    {
     "data": {
      "text/html": [
       "<div>\n",
       "<style>\n",
       "    .dataframe thead tr:only-child th {\n",
       "        text-align: right;\n",
       "    }\n",
       "\n",
       "    .dataframe thead th {\n",
       "        text-align: left;\n",
       "    }\n",
       "\n",
       "    .dataframe tbody tr th {\n",
       "        vertical-align: top;\n",
       "    }\n",
       "</style>\n",
       "<table border=\"1\" class=\"dataframe\">\n",
       "  <thead>\n",
       "    <tr style=\"text-align: right;\">\n",
       "      <th></th>\n",
       "      <th>Avg Price</th>\n",
       "      <th>Norm Tot</th>\n",
       "      <th>Purchase Count:</th>\n",
       "      <th>Sum Value</th>\n",
       "    </tr>\n",
       "  </thead>\n",
       "  <tbody>\n",
       "    <tr>\n",
       "      <th>0</th>\n",
       "      <td>2.95</td>\n",
       "      <td>4.02</td>\n",
       "      <td>633</td>\n",
       "      <td>1867.68</td>\n",
       "    </tr>\n",
       "  </tbody>\n",
       "</table>\n",
       "</div>"
      ],
      "text/plain": [
       "   Avg Price  Norm Tot  Purchase Count:  Sum Value\n",
       "0       2.95      4.02              633    1867.68"
      ]
     },
     "execution_count": 43,
     "metadata": {},
     "output_type": "execute_result"
    }
   ],
   "source": [
    "# The below each broken by gender\n",
    "  # Purchase Count\n",
    "pcou = df.loc[df.Gender == 'Male']['SN'].count()\n",
    "  # Average Purchase Price\n",
    "pavg =  df.loc[df.Gender == 'Male']['Price'].mean()\n",
    "  # Total Purchase Value\n",
    "pval = df.loc[df.Gender == 'Male']['Price'].sum()\n",
    "  # Normalized Totals\n",
    "df_male = df.loc[(df.Gender == 'Male')]\n",
    "unique_count = len(df_male.groupby(['SN'])['SN'].count())\n",
    "norm = round(pval/unique_count,2)    \n",
    "print(\"Purchase stats by Male---\")\n",
    "print (\"Purchase Count:\"+str(pcou)+\" Avg Price:\"+str(round(pavg,2))+\" Sum Val:\"+str(round(pval,2))+ \"Norm Tot:\"+str(norm))\n",
    "\n",
    "\n",
    "display = pd.DataFrame({\"Purchase Count:\" : [round(pcou,2)], \n",
    "                        \"Avg Price\" : [round(pavg,2)],\n",
    "                        \"Sum Value\" : [round(pval,2)],\n",
    "                        \"Norm Tot\" :  [round(norm,2)]\n",
    "                         })\n",
    "display\n"
   ]
  },
  {
   "cell_type": "code",
   "execution_count": 44,
   "metadata": {},
   "outputs": [
    {
     "name": "stdout",
     "output_type": "stream",
     "text": [
      "Purchase stats by Female---\n",
      "Purchase Count:136 Avg Price:2.82 Sum Val:382.91Norm Tot:3.83\n"
     ]
    },
    {
     "data": {
      "text/html": [
       "<div>\n",
       "<style>\n",
       "    .dataframe thead tr:only-child th {\n",
       "        text-align: right;\n",
       "    }\n",
       "\n",
       "    .dataframe thead th {\n",
       "        text-align: left;\n",
       "    }\n",
       "\n",
       "    .dataframe tbody tr th {\n",
       "        vertical-align: top;\n",
       "    }\n",
       "</style>\n",
       "<table border=\"1\" class=\"dataframe\">\n",
       "  <thead>\n",
       "    <tr style=\"text-align: right;\">\n",
       "      <th></th>\n",
       "      <th>Avg Price</th>\n",
       "      <th>Norm Tot</th>\n",
       "      <th>Purchase Count:</th>\n",
       "      <th>Sum Value</th>\n",
       "    </tr>\n",
       "  </thead>\n",
       "  <tbody>\n",
       "    <tr>\n",
       "      <th>0</th>\n",
       "      <td>2.82</td>\n",
       "      <td>3.83</td>\n",
       "      <td>136</td>\n",
       "      <td>382.91</td>\n",
       "    </tr>\n",
       "  </tbody>\n",
       "</table>\n",
       "</div>"
      ],
      "text/plain": [
       "   Avg Price  Norm Tot  Purchase Count:  Sum Value\n",
       "0       2.82      3.83              136     382.91"
      ]
     },
     "execution_count": 44,
     "metadata": {},
     "output_type": "execute_result"
    }
   ],
   "source": [
    "# The below each broken by gender\n",
    "  # Purchase Count\n",
    "pcou = df.loc[df.Gender == 'Female']['SN'].count()\n",
    "  # Average Purchase Price\n",
    "pavg =  df.loc[df.Gender == 'Female']['Price'].mean()\n",
    "  # Total Purchase Value\n",
    "pval = df.loc[df.Gender == 'Female']['Price'].sum()\n",
    "df_female = df.loc[(df.Gender == 'Female')]\n",
    "unique_count = len(df_female.groupby(['SN'])['SN'].count())\n",
    "norm = round(pval/unique_count,2)    \n",
    "  # Normalized Totals\n",
    "print(\"Purchase stats by Female---\")\n",
    "print (\"Purchase Count:\"+str(pcou)+\" Avg Price:\"+str(round(pavg,2))+\" Sum Val:\"+str(round(pval,2))+ \"Norm Tot:\"+str(norm))\n",
    " \n",
    "\n",
    "    \n",
    "display = pd.DataFrame({\"Purchase Count:\" : [round(pcou,2)], \n",
    "                        \"Avg Price\" : [round(pavg,2)],\n",
    "                        \"Sum Value\" : [round(pval,2)],\n",
    "                        \"Norm Tot\" :  [round(norm,2)]\n",
    "                         })\n",
    "display\n",
    "    "
   ]
  },
  {
   "cell_type": "markdown",
   "metadata": {},
   "source": [
    "#### **Age Demographics**"
   ]
  },
  {
   "cell_type": "code",
   "execution_count": 19,
   "metadata": {
    "collapsed": true
   },
   "outputs": [],
   "source": [
    "#df.loc[ df.SN == 'Undirrala66']  "
   ]
  },
  {
   "cell_type": "code",
   "execution_count": 47,
   "metadata": {},
   "outputs": [
    {
     "name": "stdout",
     "output_type": "stream",
     "text": [
      "Average 10 under:2.98 Sum: 83.46Norm:4.39\n",
      "Average 14 under:2.77 Sum: 96.95Norm:4.22\n",
      "Average 19 under:2.92 Sum: 320.77Norm:4.22\n"
     ]
    },
    {
     "data": {
      "text/html": [
       "<div>\n",
       "<style>\n",
       "    .dataframe thead tr:only-child th {\n",
       "        text-align: right;\n",
       "    }\n",
       "\n",
       "    .dataframe thead th {\n",
       "        text-align: left;\n",
       "    }\n",
       "\n",
       "    .dataframe tbody tr th {\n",
       "        vertical-align: top;\n",
       "    }\n",
       "</style>\n",
       "<table border=\"1\" class=\"dataframe\">\n",
       "  <thead>\n",
       "    <tr style=\"text-align: right;\">\n",
       "      <th></th>\n",
       "      <th>Age Category:</th>\n",
       "      <th>Average:</th>\n",
       "      <th>Norm Tot</th>\n",
       "      <th>Sum</th>\n",
       "    </tr>\n",
       "  </thead>\n",
       "  <tbody>\n",
       "    <tr>\n",
       "      <th>0</th>\n",
       "      <td>10 Under</td>\n",
       "      <td>2.98</td>\n",
       "      <td>4.39</td>\n",
       "      <td>83.46</td>\n",
       "    </tr>\n",
       "    <tr>\n",
       "      <th>1</th>\n",
       "      <td>!4 -10</td>\n",
       "      <td>2.77</td>\n",
       "      <td>4.22</td>\n",
       "      <td>96.95</td>\n",
       "    </tr>\n",
       "    <tr>\n",
       "      <th>2</th>\n",
       "      <td>19-14</td>\n",
       "      <td>2.92</td>\n",
       "      <td>4.22</td>\n",
       "      <td>320.77</td>\n",
       "    </tr>\n",
       "  </tbody>\n",
       "</table>\n",
       "</div>"
      ],
      "text/plain": [
       "  Age Category:  Average:  Norm Tot     Sum\n",
       "0      10 Under      2.98      4.39   83.46\n",
       "1        !4 -10      2.77      4.22   96.95\n",
       "2         19-14      2.92      4.22  320.77"
      ]
     },
     "execution_count": 47,
     "metadata": {},
     "output_type": "execute_result"
    }
   ],
   "source": [
    "#**Age Demographics**\n",
    "\n",
    "#* The below each broken into bins of 4 years (i.e. &lt;10, 10-14, 15-19, etc.) \n",
    "#  * Purchase Count\n",
    "df_10 = df.loc[df.Age < 10]\n",
    "\n",
    "avg_10 = df_10['Price'].sum()/df_10['Price'].count()\n",
    "tot_10 = df_10['Price'].sum() \n",
    "unique_count_10 = len(df_10.groupby(['SN'])['SN'].count())\n",
    "norm_10 = round(tot_10/unique_count_10,2)    \n",
    "\n",
    "df_14 = df.loc[ ( df.Age >= 10 ) & (df.Age <= 14) ]\n",
    "\n",
    "avg_14 = df_14['Price'].sum()/df_14['Price'].count()\n",
    "tot_14 = df_14['Price'].sum() \n",
    "unique_count_14 = len(df_14.groupby(['SN'])['SN'].count())\n",
    "norm_14 = round(tot_14/unique_count_14,2)    \n",
    "\n",
    "df_19 = df.loc[ ( df.Age <= 15 ) & (df.Age <= 19) ]\n",
    "\n",
    "avg_19 = df_19['Price'].sum()/df_19['Price'].count()\n",
    "tot_19 = df_19['Price'].sum() \n",
    "unique_count_19 = len(df_19.groupby(['SN'])['SN'].count())\n",
    "norm_19 = round(tot_19/unique_count_19,2)  \n",
    "\n",
    "#df_19\n",
    "#  * Average Purchase Price\n",
    "#  * Total Purchase Value\n",
    "#  * Normalized Totals\n",
    "print(\"Average 10 under:\"+str(round(avg_10,2))+\" Sum: \"+str(round(tot_10,2))+\"Norm:\"+str(norm_10) )\n",
    "print(\"Average 14 under:\"+str(round(avg_14,2))+\" Sum: \"+str(round(tot_14,2))+\"Norm:\"+str(norm_14) )\n",
    "print(\"Average 19 under:\"+str(round(avg_19,2))+\" Sum: \"+str(round(tot_19,2))+\"Norm:\"+str(norm_19) )\n",
    "\n",
    "\n",
    "display = pd.DataFrame({\"Age Category:\" : ['10 Under','!4 -10','19-14'], \n",
    "                        \"Average:\" : [round(avg_10,2), round(avg_14,2), round(avg_19,2) ],\n",
    "                        \"Sum\" : [round(tot_10,2), round(tot_14,2),round(tot_19,2) ],\n",
    "                        \"Norm Tot\" :  [round(norm_10,2),round(norm_14,2),round(norm_19,2) ]\n",
    "                         })\n",
    "display\n",
    "\n",
    " "
   ]
  },
  {
   "cell_type": "markdown",
   "metadata": {},
   "source": [
    "#### Top Spenders"
   ]
  },
  {
   "cell_type": "code",
   "execution_count": 21,
   "metadata": {},
   "outputs": [
    {
     "data": {
      "text/html": [
       "<div>\n",
       "<style>\n",
       "    .dataframe thead tr:only-child th {\n",
       "        text-align: right;\n",
       "    }\n",
       "\n",
       "    .dataframe thead th {\n",
       "        text-align: left;\n",
       "    }\n",
       "\n",
       "    .dataframe tbody tr th {\n",
       "        vertical-align: top;\n",
       "    }\n",
       "</style>\n",
       "<table border=\"1\" class=\"dataframe\">\n",
       "  <thead>\n",
       "    <tr style=\"text-align: right;\">\n",
       "      <th></th>\n",
       "      <th>Age</th>\n",
       "      <th>ItemID</th>\n",
       "      <th>Price</th>\n",
       "      <th>Counts</th>\n",
       "      <th>Average</th>\n",
       "      <th>Sum</th>\n",
       "    </tr>\n",
       "    <tr>\n",
       "      <th>SN</th>\n",
       "      <th></th>\n",
       "      <th></th>\n",
       "      <th></th>\n",
       "      <th></th>\n",
       "      <th></th>\n",
       "      <th></th>\n",
       "    </tr>\n",
       "  </thead>\n",
       "  <tbody>\n",
       "    <tr>\n",
       "      <th>Undirrala66</th>\n",
       "      <td>145</td>\n",
       "      <td>472</td>\n",
       "      <td>17.06</td>\n",
       "      <td>5</td>\n",
       "      <td>3.412000</td>\n",
       "      <td>17.06</td>\n",
       "    </tr>\n",
       "    <tr>\n",
       "      <th>Saedue76</th>\n",
       "      <td>100</td>\n",
       "      <td>233</td>\n",
       "      <td>13.56</td>\n",
       "      <td>4</td>\n",
       "      <td>3.390000</td>\n",
       "      <td>13.56</td>\n",
       "    </tr>\n",
       "    <tr>\n",
       "      <th>Mindimnya67</th>\n",
       "      <td>156</td>\n",
       "      <td>609</td>\n",
       "      <td>12.74</td>\n",
       "      <td>4</td>\n",
       "      <td>3.185000</td>\n",
       "      <td>12.74</td>\n",
       "    </tr>\n",
       "    <tr>\n",
       "      <th>Haellysu29</th>\n",
       "      <td>63</td>\n",
       "      <td>353</td>\n",
       "      <td>12.73</td>\n",
       "      <td>3</td>\n",
       "      <td>4.243333</td>\n",
       "      <td>12.73</td>\n",
       "    </tr>\n",
       "    <tr>\n",
       "      <th>Eoda93</th>\n",
       "      <td>66</td>\n",
       "      <td>284</td>\n",
       "      <td>11.58</td>\n",
       "      <td>3</td>\n",
       "      <td>3.860000</td>\n",
       "      <td>11.58</td>\n",
       "    </tr>\n",
       "  </tbody>\n",
       "</table>\n",
       "</div>"
      ],
      "text/plain": [
       "             Age  ItemID  Price  Counts   Average    Sum\n",
       "SN                                                      \n",
       "Undirrala66  145     472  17.06       5  3.412000  17.06\n",
       "Saedue76     100     233  13.56       4  3.390000  13.56\n",
       "Mindimnya67  156     609  12.74       4  3.185000  12.74\n",
       "Haellysu29    63     353  12.73       3  4.243333  12.73\n",
       "Eoda93        66     284  11.58       3  3.860000  11.58"
      ]
     },
     "execution_count": 21,
     "metadata": {},
     "output_type": "execute_result"
    }
   ],
   "source": [
    "# Identify the the top 5 spenders in the game by total purchase value, then list (in a table):\n",
    "  # SN  df.groupby('A').sum().sort('B')\n",
    "  \n",
    "\n",
    "df1 = df.groupby('SN', sort=False).sum()  \n",
    "df1['Counts'] = df.groupby(['SN'])['Price'].count()\n",
    "df1['Average'] = df.groupby(['SN'])['Price'].mean()\n",
    "df1['Sum'] = df.groupby(['SN'])['Price'].sum()\n",
    "df1.sort_values(['Price'], ascending=False, inplace=True)\n",
    "df1.head(5)\n",
    "\n"
   ]
  },
  {
   "cell_type": "markdown",
   "metadata": {},
   "source": [
    "#### Most Popular Items"
   ]
  },
  {
   "cell_type": "code",
   "execution_count": 22,
   "metadata": {},
   "outputs": [
    {
     "data": {
      "text/html": [
       "<div>\n",
       "<style>\n",
       "    .dataframe thead tr:only-child th {\n",
       "        text-align: right;\n",
       "    }\n",
       "\n",
       "    .dataframe thead th {\n",
       "        text-align: left;\n",
       "    }\n",
       "\n",
       "    .dataframe tbody tr th {\n",
       "        vertical-align: top;\n",
       "    }\n",
       "</style>\n",
       "<table border=\"1\" class=\"dataframe\">\n",
       "  <thead>\n",
       "    <tr style=\"text-align: right;\">\n",
       "      <th></th>\n",
       "      <th>Age</th>\n",
       "      <th>Gender</th>\n",
       "      <th>ItemID</th>\n",
       "      <th>Price</th>\n",
       "      <th>SN</th>\n",
       "      <th>ItemCount</th>\n",
       "    </tr>\n",
       "    <tr>\n",
       "      <th>ItemName</th>\n",
       "      <th></th>\n",
       "      <th></th>\n",
       "      <th></th>\n",
       "      <th></th>\n",
       "      <th></th>\n",
       "      <th></th>\n",
       "    </tr>\n",
       "  </thead>\n",
       "  <tbody>\n",
       "    <tr>\n",
       "      <th>Final Critic</th>\n",
       "      <td>14</td>\n",
       "      <td>14</td>\n",
       "      <td>14</td>\n",
       "      <td>14</td>\n",
       "      <td>14</td>\n",
       "      <td>14</td>\n",
       "    </tr>\n",
       "    <tr>\n",
       "      <th>Arcane Gem</th>\n",
       "      <td>11</td>\n",
       "      <td>11</td>\n",
       "      <td>11</td>\n",
       "      <td>11</td>\n",
       "      <td>11</td>\n",
       "      <td>11</td>\n",
       "    </tr>\n",
       "    <tr>\n",
       "      <th>Betrayal, Whisper of Grieving Widows</th>\n",
       "      <td>11</td>\n",
       "      <td>11</td>\n",
       "      <td>11</td>\n",
       "      <td>11</td>\n",
       "      <td>11</td>\n",
       "      <td>11</td>\n",
       "    </tr>\n",
       "    <tr>\n",
       "      <th>Stormcaller</th>\n",
       "      <td>10</td>\n",
       "      <td>10</td>\n",
       "      <td>10</td>\n",
       "      <td>10</td>\n",
       "      <td>10</td>\n",
       "      <td>10</td>\n",
       "    </tr>\n",
       "    <tr>\n",
       "      <th>Woeful Adamantite Claymore</th>\n",
       "      <td>9</td>\n",
       "      <td>9</td>\n",
       "      <td>9</td>\n",
       "      <td>9</td>\n",
       "      <td>9</td>\n",
       "      <td>9</td>\n",
       "    </tr>\n",
       "  </tbody>\n",
       "</table>\n",
       "</div>"
      ],
      "text/plain": [
       "                                      Age  Gender  ItemID  Price  SN  \\\n",
       "ItemName                                                               \n",
       "Final Critic                           14      14      14     14  14   \n",
       "Arcane Gem                             11      11      11     11  11   \n",
       "Betrayal, Whisper of Grieving Widows   11      11      11     11  11   \n",
       "Stormcaller                            10      10      10     10  10   \n",
       "Woeful Adamantite Claymore              9       9       9      9   9   \n",
       "\n",
       "                                      ItemCount  \n",
       "ItemName                                         \n",
       "Final Critic                                 14  \n",
       "Arcane Gem                                   11  \n",
       "Betrayal, Whisper of Grieving Widows         11  \n",
       "Stormcaller                                  10  \n",
       "Woeful Adamantite Claymore                    9  "
      ]
     },
     "execution_count": 22,
     "metadata": {},
     "output_type": "execute_result"
    }
   ],
   "source": [
    "# Identify the 5 most popular items by purchase count, then list (in a table):\n",
    "#  * Item ID\n",
    "#  * Item Name\n",
    "#  * Purchase Count\n",
    "#  * Item Price\n",
    "#  * Total Purchase Value\n",
    "df2 = df.groupby('ItemName', sort=False).count() \n",
    "df2['ItemCount'] = df.groupby(['ItemName'])['Price'].count()\n",
    "df2.sort_values(['ItemCount'], ascending=False, inplace=True)\n",
    "df2.head(5)"
   ]
  },
  {
   "cell_type": "code",
   "execution_count": 48,
   "metadata": {},
   "outputs": [],
   "source": [
    "#df.loc[df.ItemName=='Arcane Gem']"
   ]
  },
  {
   "cell_type": "markdown",
   "metadata": {},
   "source": [
    "#### Most Profitable Items"
   ]
  },
  {
   "cell_type": "code",
   "execution_count": 49,
   "metadata": {},
   "outputs": [
    {
     "data": {
      "text/html": [
       "<div>\n",
       "<style>\n",
       "    .dataframe thead tr:only-child th {\n",
       "        text-align: right;\n",
       "    }\n",
       "\n",
       "    .dataframe thead th {\n",
       "        text-align: left;\n",
       "    }\n",
       "\n",
       "    .dataframe tbody tr th {\n",
       "        vertical-align: top;\n",
       "    }\n",
       "</style>\n",
       "<table border=\"1\" class=\"dataframe\">\n",
       "  <thead>\n",
       "    <tr style=\"text-align: right;\">\n",
       "      <th></th>\n",
       "      <th>Age</th>\n",
       "      <th>Gender</th>\n",
       "      <th>ItemID</th>\n",
       "      <th>Price</th>\n",
       "      <th>SN</th>\n",
       "      <th>ItemValue</th>\n",
       "    </tr>\n",
       "    <tr>\n",
       "      <th>ItemName</th>\n",
       "      <th></th>\n",
       "      <th></th>\n",
       "      <th></th>\n",
       "      <th></th>\n",
       "      <th></th>\n",
       "      <th></th>\n",
       "    </tr>\n",
       "  </thead>\n",
       "  <tbody>\n",
       "    <tr>\n",
       "      <th>Final Critic</th>\n",
       "      <td>14</td>\n",
       "      <td>14</td>\n",
       "      <td>14</td>\n",
       "      <td>14</td>\n",
       "      <td>14</td>\n",
       "      <td>38.60</td>\n",
       "    </tr>\n",
       "    <tr>\n",
       "      <th>Retribution Axe</th>\n",
       "      <td>9</td>\n",
       "      <td>9</td>\n",
       "      <td>9</td>\n",
       "      <td>9</td>\n",
       "      <td>9</td>\n",
       "      <td>37.26</td>\n",
       "    </tr>\n",
       "    <tr>\n",
       "      <th>Stormcaller</th>\n",
       "      <td>10</td>\n",
       "      <td>10</td>\n",
       "      <td>10</td>\n",
       "      <td>10</td>\n",
       "      <td>10</td>\n",
       "      <td>34.65</td>\n",
       "    </tr>\n",
       "    <tr>\n",
       "      <th>Spectral Diamond Doomblade</th>\n",
       "      <td>7</td>\n",
       "      <td>7</td>\n",
       "      <td>7</td>\n",
       "      <td>7</td>\n",
       "      <td>7</td>\n",
       "      <td>29.75</td>\n",
       "    </tr>\n",
       "    <tr>\n",
       "      <th>Orenmir</th>\n",
       "      <td>6</td>\n",
       "      <td>6</td>\n",
       "      <td>6</td>\n",
       "      <td>6</td>\n",
       "      <td>6</td>\n",
       "      <td>29.70</td>\n",
       "    </tr>\n",
       "  </tbody>\n",
       "</table>\n",
       "</div>"
      ],
      "text/plain": [
       "                            Age  Gender  ItemID  Price  SN  ItemValue\n",
       "ItemName                                                             \n",
       "Final Critic                 14      14      14     14  14      38.60\n",
       "Retribution Axe               9       9       9      9   9      37.26\n",
       "Stormcaller                  10      10      10     10  10      34.65\n",
       "Spectral Diamond Doomblade    7       7       7      7   7      29.75\n",
       "Orenmir                       6       6       6      6   6      29.70"
      ]
     },
     "execution_count": 49,
     "metadata": {},
     "output_type": "execute_result"
    }
   ],
   "source": [
    "#**Most Profitable Items**\n",
    "df2 = df.groupby('ItemName', sort=False).count() \n",
    "df2.sort_values(['Price'], ascending=False, inplace=True)\n",
    "df2['ItemValue'] = df.groupby(['ItemName'])['Price'].sum()\n",
    "df2.sort_values(['ItemValue'], ascending=False, inplace=True)\n",
    "df2.head(5)\n",
    "\n",
    "# Identify the 5 most profitable items by total purchase value, then list (in a table):\n",
    "#  * Item ID\n",
    "#  * Item Name\n",
    "#  * Purchase Count\n",
    "#  * Item Price\n",
    "#  * Total Purchase Value"
   ]
  },
  {
   "cell_type": "code",
   "execution_count": 50,
   "metadata": {},
   "outputs": [
    {
     "data": {
      "image/png": "[encoded data removed]",
      "text/plain": [
       "<matplotlib.figure.Figure at 0x1d4d8243198>"
      ]
     },
     "metadata": {},
     "output_type": "display_data"
    }
   ],
   "source": [
    "df3 = df2.loc[:,['ItemValue']]\n",
    "df4 = df3[0:5]\n",
    "df4.plot(x=df4[\"ItemValue\"], kind=\"barh\", figsize=(20, 3), title=\"Most Profitable Items\")\n",
    "plt.show()"
   ]
  },
  {
   "cell_type": "code",
   "execution_count": 51,
   "metadata": {},
   "outputs": [
    {
     "data": {
      "image/png": "[encoded data removed]",
      "text/plain": [
       "<matplotlib.figure.Figure at 0x1d4d80d5400>"
      ]
     },
     "metadata": {},
     "output_type": "display_data"
    }
   ],
   "source": [
    "plt.figure(figsize = (20,3))\n",
    "\n",
    "x_axis  = np.arange(len(df4['ItemValue'].tolist()))\n",
    "y_axis  = df4['ItemValue'].tolist()\n",
    "tick_locations = [value for value in x_axis]\n",
    "plt.xticks(tick_locations, [ ])\n",
    "\n",
    "plt.barh(x_axis, y_axis, color='r', alpha=0.5, align=\"center\")\n",
    "\n",
    "tick_locations = [value for value in x_axis]\n",
    "plt.xticks(tick_locations, x_axis  )\n",
    "\n",
    "plt.show()"
   ]
  },
  {
   "cell_type": "code",
   "execution_count": null,
   "metadata": {
    "collapsed": true
   },
   "outputs": [],
   "source": []
  },
  {
   "cell_type": "code",
   "execution_count": null,
   "metadata": {
    "collapsed": true
   },
   "outputs": [],
   "source": []
  }
 ],
 "metadata": {
  "kernelspec": {
   "display_name": "Python 3",
   "language": "python",
   "name": "python3"
  },
  "language_info": {
   "codemirror_mode": {
    "name": "ipython",
    "version": 3
   },
   "file_extension": ".py",
   "mimetype": "text/x-python",
   "name": "python",
   "nbconvert_exporter": "python",
   "pygments_lexer": "ipython3",
   "version": "3.6.1"
  }
 },
 "nbformat": 4,
 "nbformat_minor": 2
}
